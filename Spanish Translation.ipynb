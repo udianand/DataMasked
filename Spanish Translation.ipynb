{
 "cells": [
  {
   "cell_type": "code",
   "execution_count": 1,
   "metadata": {},
   "outputs": [],
   "source": [
    "import numpy as np\n",
    "import pandas as pd\n",
    "import seaborn as sns\n",
    "import matplotlib.pyplot as plt\n",
    "from scipy.stats import ttest_ind"
   ]
  },
  {
   "cell_type": "markdown",
   "metadata": {},
   "source": [
    "### Utility Function"
   ]
  },
  {
   "cell_type": "code",
   "execution_count": 2,
   "metadata": {},
   "outputs": [],
   "source": [
    "def print_p_value(unique_cntry, other_count_data):\n",
    "    \n",
    "    print('{0:15s} {1:>10s} {2:>25s}'.format('Country', 'P-Value', 'NULL Hypothesis'))\n",
    "    print('-' * 55)\n",
    "    \n",
    "    for cntry in unique_cntry:\n",
    "        cntry_data = other_count_data[other_count_data['country'] == cntry]\n",
    "        get_p_value(cntry, cntry_data)\n",
    "    "
   ]
  },
  {
   "cell_type": "code",
   "execution_count": 3,
   "metadata": {},
   "outputs": [],
   "source": [
    "def get_p_value(cntry, cntry_data):\n",
    "    \n",
    "    p_val_threshold = 0.05\n",
    "    \n",
    "    cntry_data_control = cntry_data[cntry_data['test']==0]\n",
    "    cntry_data_test = cntry_data[cntry_data['test']==1]\n",
    "    \n",
    "    control_value = cntry_data_control['conversion']\n",
    "    test_value = cntry_data_test['conversion']\n",
    "    \n",
    "    p_val = ttest_ind(control_value, test_value, equal_var=False).pvalue\n",
    "    \n",
    "    null_hypo_res = \"REJECT\" if p_val < p_val_threshold  else \"ACCEPT\"\n",
    "    \n",
    "    print('{0:15s} {1:15.5e} {2:>15s}'.format(cntry, p_val, null_hypo_res))\n",
    "    \n",
    "    \n",
    " "
   ]
  },
  {
   "cell_type": "markdown",
   "metadata": {},
   "source": [
    "### Load Data Set"
   ]
  },
  {
   "cell_type": "code",
   "execution_count": 4,
   "metadata": {},
   "outputs": [],
   "source": [
    "test_data = pd.read_csv(\"C:/Users/udit.anand/OneDrive - Synpulse/UserRoaming/Desktop/DataScience/SpanishTranslationABTest/test_table.csv\")\n",
    "user_data = pd.read_csv(\"C:/Users/udit.anand/OneDrive - Synpulse/UserRoaming/Desktop/DataScience/SpanishTranslationABTest/user_table.csv\")"
   ]
  },
  {
   "cell_type": "markdown",
   "metadata": {},
   "source": [
    "### Data Exploration"
   ]
  },
  {
   "cell_type": "code",
   "execution_count": 5,
   "metadata": {},
   "outputs": [
    {
     "name": "stdout",
     "output_type": "stream",
     "text": [
      "Index(['user_id', 'date', 'source', 'device', 'browser_language',\n",
      "       'ads_channel', 'browser', 'conversion', 'test'],\n",
      "      dtype='object')\n",
      "Index(['user_id', 'sex', 'age', 'country'], dtype='object')\n"
     ]
    }
   ],
   "source": [
    "# looking the column names\n",
    "print(test_data.columns)\n",
    "print(user_data.columns)"
   ]
  },
  {
   "cell_type": "code",
   "execution_count": null,
   "metadata": {},
   "outputs": [],
   "source": []
  },
  {
   "cell_type": "markdown",
   "metadata": {},
   "source": [
    "#### STEP1: Check the num of unique entries. Since we will be merging the two data sets we want to understand how much of ground work would be involved in merging."
   ]
  },
  {
   "cell_type": "code",
   "execution_count": 6,
   "metadata": {},
   "outputs": [
    {
     "name": "stdout",
     "output_type": "stream",
     "text": [
      "Count of user_id in test data: 453321\n",
      "Count of user_id in user data: 452867\n"
     ]
    }
   ],
   "source": [
    "print(\"Count of user_id in test data: \" + str(len(test_data.user_id)))\n",
    "print(\"Count of user_id in user data: \" + str(len(user_data.user_id)))"
   ]
  },
  {
   "cell_type": "code",
   "execution_count": 7,
   "metadata": {},
   "outputs": [
    {
     "name": "stdout",
     "output_type": "stream",
     "text": [
      "Count of unique user_id in test data: 453321\n",
      "Count of unique user_id in user data: 452867\n"
     ]
    }
   ],
   "source": [
    "print(\"Count of unique user_id in test data: \" + str(len(test_data.user_id.unique())))\n",
    "print(\"Count of unique user_id in user data: \" + str(len(user_data.user_id.unique())))"
   ]
  },
  {
   "cell_type": "markdown",
   "metadata": {},
   "source": [
    "\n",
    "#### STEP2: Since all entries are unique we can go ahead and join the data sets on 'user_id'."
   ]
  },
  {
   "cell_type": "markdown",
   "metadata": {},
   "source": [
    "There are no duplicate user_id which is good as it reduces the data preprocessing work"
   ]
  },
  {
   "cell_type": "code",
   "execution_count": 8,
   "metadata": {
    "scrolled": false
   },
   "outputs": [],
   "source": [
    "data = pd.merge(test_data, user_data, how='inner', on=['user_id'])"
   ]
  },
  {
   "cell_type": "code",
   "execution_count": 9,
   "metadata": {},
   "outputs": [
    {
     "data": {
      "text/html": [
       "<div>\n",
       "<style scoped>\n",
       "    .dataframe tbody tr th:only-of-type {\n",
       "        vertical-align: middle;\n",
       "    }\n",
       "\n",
       "    .dataframe tbody tr th {\n",
       "        vertical-align: top;\n",
       "    }\n",
       "\n",
       "    .dataframe thead th {\n",
       "        text-align: right;\n",
       "    }\n",
       "</style>\n",
       "<table border=\"1\" class=\"dataframe\">\n",
       "  <thead>\n",
       "    <tr style=\"text-align: right;\">\n",
       "      <th></th>\n",
       "      <th>user_id</th>\n",
       "      <th>date</th>\n",
       "      <th>source</th>\n",
       "      <th>device</th>\n",
       "      <th>browser_language</th>\n",
       "      <th>ads_channel</th>\n",
       "      <th>browser</th>\n",
       "      <th>conversion</th>\n",
       "      <th>test</th>\n",
       "      <th>sex</th>\n",
       "      <th>age</th>\n",
       "      <th>country</th>\n",
       "    </tr>\n",
       "  </thead>\n",
       "  <tbody>\n",
       "    <tr>\n",
       "      <th>0</th>\n",
       "      <td>315281</td>\n",
       "      <td>2015-12-03</td>\n",
       "      <td>Direct</td>\n",
       "      <td>Web</td>\n",
       "      <td>ES</td>\n",
       "      <td>NaN</td>\n",
       "      <td>IE</td>\n",
       "      <td>1</td>\n",
       "      <td>0</td>\n",
       "      <td>M</td>\n",
       "      <td>32</td>\n",
       "      <td>Spain</td>\n",
       "    </tr>\n",
       "    <tr>\n",
       "      <th>1</th>\n",
       "      <td>497851</td>\n",
       "      <td>2015-12-04</td>\n",
       "      <td>Ads</td>\n",
       "      <td>Web</td>\n",
       "      <td>ES</td>\n",
       "      <td>Google</td>\n",
       "      <td>IE</td>\n",
       "      <td>0</td>\n",
       "      <td>1</td>\n",
       "      <td>M</td>\n",
       "      <td>21</td>\n",
       "      <td>Mexico</td>\n",
       "    </tr>\n",
       "    <tr>\n",
       "      <th>2</th>\n",
       "      <td>848402</td>\n",
       "      <td>2015-12-04</td>\n",
       "      <td>Ads</td>\n",
       "      <td>Web</td>\n",
       "      <td>ES</td>\n",
       "      <td>Facebook</td>\n",
       "      <td>Chrome</td>\n",
       "      <td>0</td>\n",
       "      <td>0</td>\n",
       "      <td>M</td>\n",
       "      <td>34</td>\n",
       "      <td>Spain</td>\n",
       "    </tr>\n",
       "    <tr>\n",
       "      <th>3</th>\n",
       "      <td>290051</td>\n",
       "      <td>2015-12-03</td>\n",
       "      <td>Ads</td>\n",
       "      <td>Mobile</td>\n",
       "      <td>Other</td>\n",
       "      <td>Facebook</td>\n",
       "      <td>Android_App</td>\n",
       "      <td>0</td>\n",
       "      <td>1</td>\n",
       "      <td>F</td>\n",
       "      <td>22</td>\n",
       "      <td>Mexico</td>\n",
       "    </tr>\n",
       "    <tr>\n",
       "      <th>4</th>\n",
       "      <td>548435</td>\n",
       "      <td>2015-11-30</td>\n",
       "      <td>Ads</td>\n",
       "      <td>Web</td>\n",
       "      <td>ES</td>\n",
       "      <td>Google</td>\n",
       "      <td>FireFox</td>\n",
       "      <td>0</td>\n",
       "      <td>1</td>\n",
       "      <td>M</td>\n",
       "      <td>19</td>\n",
       "      <td>Mexico</td>\n",
       "    </tr>\n",
       "  </tbody>\n",
       "</table>\n",
       "</div>"
      ],
      "text/plain": [
       "   user_id        date  source  device browser_language ads_channel  \\\n",
       "0   315281  2015-12-03  Direct     Web               ES         NaN   \n",
       "1   497851  2015-12-04     Ads     Web               ES      Google   \n",
       "2   848402  2015-12-04     Ads     Web               ES    Facebook   \n",
       "3   290051  2015-12-03     Ads  Mobile            Other    Facebook   \n",
       "4   548435  2015-11-30     Ads     Web               ES      Google   \n",
       "\n",
       "       browser  conversion  test sex  age country  \n",
       "0           IE           1     0   M   32   Spain  \n",
       "1           IE           0     1   M   21  Mexico  \n",
       "2       Chrome           0     0   M   34   Spain  \n",
       "3  Android_App           0     1   F   22  Mexico  \n",
       "4      FireFox           0     1   M   19  Mexico  "
      ]
     },
     "execution_count": 9,
     "metadata": {},
     "output_type": "execute_result"
    }
   ],
   "source": [
    "data.head()"
   ]
  },
  {
   "cell_type": "markdown",
   "metadata": {},
   "source": [
    "### A/B Testing"
   ]
  },
  {
   "cell_type": "markdown",
   "metadata": {},
   "source": [
    "#### STEP3: Visualizing the current version rate. Based on the information we expect Spain to outperform the other countries"
   ]
  },
  {
   "cell_type": "code",
   "execution_count": 10,
   "metadata": {},
   "outputs": [
    {
     "name": "stdout",
     "output_type": "stream",
     "text": [
      "        country  conversion\n",
      "14        Spain    0.079719\n",
      "6   El Salvador    0.053554\n",
      "10    Nicaragua    0.052647\n",
      "4    Costa Rica    0.052256\n",
      "3      Colombia    0.052089\n",
      "8      Honduras    0.050906\n",
      "7     Guatemala    0.050643\n",
      "16    Venezuela    0.050344\n",
      "13         Peru    0.049914\n",
      "9        Mexico    0.049495\n",
      "1       Bolivia    0.049369\n",
      "5       Ecuador    0.049154\n",
      "12     Paraguay    0.048493\n",
      "2         Chile    0.048107\n",
      "11       Panama    0.046796\n",
      "0     Argentina    0.015071\n",
      "15      Uruguay    0.012048\n"
     ]
    },
    {
     "data": {
      "image/png": "[encoded data removed]",
      "text/plain": [
       "<Figure size 1296x432 with 1 Axes>"
      ]
     },
     "metadata": {
      "needs_background": "light"
     },
     "output_type": "display_data"
    }
   ],
   "source": [
    "fig, ax = plt.subplots(nrows=1, ncols=1, figsize=(18, 6))\n",
    "\n",
    "data_control_group = data[data['test'] ==0]\n",
    "group_by_country = data_control_group[['conversion', 'country']].groupby('country').mean().reset_index()\n",
    "ax= sns.barplot(x='country', y='conversion', data=group_by_country, palette = 'Set2')\n",
    "ax.set_title('Conversion Rate Per Country', fontsize=20)\n",
    "ax.set_ylabel('Conversion', fontsize = 15)\n",
    "ax.set_xlabel('Country', fontsize = 15)\n",
    "print(group_by_country.sort_values(by=['conversion'], ascending=False)) "
   ]
  },
  {
   "cell_type": "code",
   "execution_count": 11,
   "metadata": {},
   "outputs": [
    {
     "data": {
      "image/png": "[encoded data removed]",
      "text/plain": [
       "<Figure size 1296x432 with 1 Axes>"
      ]
     },
     "metadata": {
      "needs_background": "light"
     },
     "output_type": "display_data"
    }
   ],
   "source": [
    "fig, ax = plt.subplots(figsize=(18, 6))\n",
    "sns.countplot(x='country', hue='test', data=data, ax=ax)\n",
    "ax.set_title('Test-Control Distribution Per Country', fontsize=20)\n",
    "ax.set_ylabel('Count', fontsize = 15)\n",
    "ax.set_xlabel('Country', fontsize = 15)\n",
    "plt.show()"
   ]
  },
  {
   "cell_type": "markdown",
   "metadata": {},
   "source": [
    "#### STEP4: Since we do not expect Spain to be affected by the given problem we can remove it from the data set"
   ]
  },
  {
   "cell_type": "code",
   "execution_count": 12,
   "metadata": {},
   "outputs": [
    {
     "name": "stdout",
     "output_type": "stream",
     "text": [
      "Control Group:: Size: 185311\n",
      "Control Group:: Mean: 0.04829179055749524\n",
      "Control Group:: SD: 0.2143826987826136\n",
      "\n",
      "\n",
      "Test Group:: Size: 215774\n",
      "Test Group:: Mean: 0.043411161678422794\n",
      "Test Group:: SD: 0.20378131704133629\n"
     ]
    }
   ],
   "source": [
    "other_count_data = data[data['country'] != 'Spain']\n",
    "other_count_data_control = other_count_data[other_count_data['test']==0]\n",
    "other_count_data_test = other_count_data[other_count_data['test']==1]\n",
    "\n",
    "control_value = other_count_data_control['conversion']\n",
    "test_value = other_count_data_test['conversion']\n",
    "\n",
    "print(\"Control Group:: Size: \" + str(len(control_value)))\n",
    "print(\"Control Group:: Mean: \" + str(control_value.mean()))\n",
    "print(\"Control Group:: SD: \" + str(control_value.std()))\n",
    "print(\"\\n\")\n",
    "print(\"Test Group:: Size: \" + str(len(test_value)))\n",
    "print(\"Test Group:: Mean: \" + str(test_value.mean()))\n",
    "print(\"Test Group:: SD: \" + str(test_value.std()))"
   ]
  },
  {
   "cell_type": "markdown",
   "metadata": {},
   "source": [
    "#### STEP5: Before moving ahead, lets define our null and alternate hypothesis. \n",
    "\n",
    "Null Hypo: The difference in the mean is random and out of chance i.e. The decline in conversion rate happened by chance. \n",
    "\n",
    "Alternate Hypo: The difference in the mean is not random and can be repeated again if the experiment is performed again i.e. \n",
    "\n",
    "The decline in conversion rate did not happen by chance but by some other factor. Statistically to conclude that the language change had no effect on the conversion we would like to accept the null hypothesis.\n",
    "    "
   ]
  },
  {
   "cell_type": "markdown",
   "metadata": {},
   "source": [
    "#### STEP6: Perform t test"
   ]
  },
  {
   "cell_type": "code",
   "execution_count": 13,
   "metadata": {},
   "outputs": [
    {
     "name": "stdout",
     "output_type": "stream",
     "text": [
      "Ttest_indResult(statistic=7.353895203080277, pvalue=1.9289178577799033e-13)\n"
     ]
    }
   ],
   "source": [
    "print(ttest_ind(control_value, test_value, equal_var=False)) "
   ]
  },
  {
   "cell_type": "markdown",
   "metadata": {},
   "source": [
    "#### STEP7: A lower p-value indicates that the result did not happen by chance. Usually a p-value of greater than 0.05 is required to \n",
    "#### reject the null hypothesis. Based on our current result it seems that the we have very strong evidence against rejecting the null \n",
    "#### hypothesis."
   ]
  },
  {
   "cell_type": "markdown",
   "metadata": {},
   "source": [
    "#### STEP8: Let's looks at how did each country fare as the overall results do not look promising"
   ]
  },
  {
   "cell_type": "code",
   "execution_count": 14,
   "metadata": {},
   "outputs": [],
   "source": [
    "unique_cntry = other_count_data['country'].unique()"
   ]
  },
  {
   "cell_type": "code",
   "execution_count": 15,
   "metadata": {},
   "outputs": [
    {
     "name": "stdout",
     "output_type": "stream",
     "text": [
      "Country            P-Value           NULL Hypothesis\n",
      "-------------------------------------------------------\n",
      "Mexico              1.65544e-01          ACCEPT\n",
      "Venezuela           5.73702e-01          ACCEPT\n",
      "Bolivia             7.18885e-01          ACCEPT\n",
      "Colombia            4.23719e-01          ACCEPT\n",
      "Uruguay             8.79764e-01          ACCEPT\n",
      "El Salvador         2.48127e-01          ACCEPT\n",
      "Nicaragua           7.80400e-01          ACCEPT\n",
      "Peru                7.71953e-01          ACCEPT\n",
      "Costa Rica          6.87876e-01          ACCEPT\n",
      "Chile               3.02848e-01          ACCEPT\n",
      "Argentina           3.35147e-01          ACCEPT\n",
      "Ecuador             9.61512e-01          ACCEPT\n",
      "Guatemala           5.72107e-01          ACCEPT\n",
      "Honduras            4.71463e-01          ACCEPT\n",
      "Paraguay            8.83697e-01          ACCEPT\n",
      "Panama              7.05327e-01          ACCEPT\n"
     ]
    }
   ],
   "source": [
    "print_p_value(unique_cntry, other_count_data)\n",
    "\n",
    "    "
   ]
  },
  {
   "cell_type": "markdown",
   "metadata": {},
   "source": [
    "### Summary\n",
    "1. Spain as expected has the best conversion rate.\n",
    "2. For other Latam countries  when observed together it seems that the language change did have a negative impact on conversion\n",
    "3. However, when analyzed for each country the result was more favorable i.e the impact of language change on conversion was statistically non significant\n",
    "4. Possible reasons why we see a discrepany between results when countries are dealt with together or when they are dealt individually could be effect of extremely skewed control or test groups. For example, Argentina and Uruguay as shown above have a high number of test samples as compared to control. \n",
    "5. In an ideal environment we would expect the count of control and test variables across all countries to be close if not identical."
   ]
  },
  {
   "cell_type": "code",
   "execution_count": null,
   "metadata": {},
   "outputs": [],
   "source": []
  }
 ],
 "metadata": {
  "kernelspec": {
   "display_name": "Python 3",
   "language": "python",
   "name": "python3"
  },
  "language_info": {
   "codemirror_mode": {
    "name": "ipython",
    "version": 3
   },
   "file_extension": ".py",
   "mimetype": "text/x-python",
   "name": "python",
   "nbconvert_exporter": "python",
   "pygments_lexer": "ipython3",
   "version": "3.7.0"
  }
 },
 "nbformat": 4,
 "nbformat_minor": 2
}
